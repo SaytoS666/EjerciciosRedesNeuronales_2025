{
 "cells": [
  {
   "cell_type": "code",
   "execution_count": null,
   "id": "4fe4a4b6-20c8-482f-bdf8-a9750aad3b39",
   "metadata": {},
   "outputs": [
    {
     "name": "stdout",
     "output_type": "stream",
     "text": [
      "Epoch 1/15\n"
     ]
    },
    {
     "name": "stderr",
     "output_type": "stream",
     "text": [
      "C:\\Users\\YaTuSabes\\miniconda3\\Lib\\site-packages\\keras\\src\\layers\\reshaping\\flatten.py:37: UserWarning: Do not pass an `input_shape`/`input_dim` argument to a layer. When using Sequential models, prefer using an `Input(shape)` object as the first layer in the model instead.\n",
      "  super().__init__(**kwargs)\n"
     ]
    },
    {
     "name": "stdout",
     "output_type": "stream",
     "text": [
      "\u001b[1m1875/1875\u001b[0m \u001b[32m━━━━━━━━━━━━━━━━━━━━\u001b[0m\u001b[37m\u001b[0m \u001b[1m7s\u001b[0m 2ms/step - accuracy: 0.3378 - loss: 0.4087 - val_accuracy: 0.3831 - val_loss: 0.3000\n",
      "Epoch 2/15\n",
      "\u001b[1m1875/1875\u001b[0m \u001b[32m━━━━━━━━━━━━━━━━━━━━\u001b[0m\u001b[37m\u001b[0m \u001b[1m3s\u001b[0m 2ms/step - accuracy: 0.3839 - loss: 0.3028 - val_accuracy: 0.3885 - val_loss: 0.2843\n",
      "Epoch 3/15\n",
      "\u001b[1m1875/1875\u001b[0m \u001b[32m━━━━━━━━━━━━━━━━━━━━\u001b[0m\u001b[37m\u001b[0m \u001b[1m3s\u001b[0m 2ms/step - accuracy: 0.3921 - loss: 0.2845 - val_accuracy: 0.4088 - val_loss: 0.2756\n",
      "Epoch 4/15\n",
      "\u001b[1m1875/1875\u001b[0m \u001b[32m━━━━━━━━━━━━━━━━━━━━\u001b[0m\u001b[37m\u001b[0m \u001b[1m3s\u001b[0m 2ms/step - accuracy: 0.3931 - loss: 0.2835 - val_accuracy: 0.4005 - val_loss: 0.2716\n",
      "Epoch 5/15\n",
      "\u001b[1m1875/1875\u001b[0m \u001b[32m━━━━━━━━━━━━━━━━━━━━\u001b[0m\u001b[37m\u001b[0m \u001b[1m3s\u001b[0m 2ms/step - accuracy: 0.3984 - loss: 0.2788 - val_accuracy: 0.3999 - val_loss: 0.2687\n",
      "Epoch 6/15\n",
      "\u001b[1m1875/1875\u001b[0m \u001b[32m━━━━━━━━━━━━━━━━━━━━\u001b[0m\u001b[37m\u001b[0m \u001b[1m3s\u001b[0m 2ms/step - accuracy: 0.4034 - loss: 0.2666 - val_accuracy: 0.4101 - val_loss: 0.2652\n",
      "Epoch 7/15\n",
      "\u001b[1m1875/1875\u001b[0m \u001b[32m━━━━━━━━━━━━━━━━━━━━\u001b[0m\u001b[37m\u001b[0m \u001b[1m3s\u001b[0m 2ms/step - accuracy: 0.4010 - loss: 0.2723 - val_accuracy: 0.4079 - val_loss: 0.2636\n",
      "Epoch 8/15\n",
      "\u001b[1m1875/1875\u001b[0m \u001b[32m━━━━━━━━━━━━━━━━━━━━\u001b[0m\u001b[37m\u001b[0m \u001b[1m3s\u001b[0m 2ms/step - accuracy: 0.4058 - loss: 0.2575 - val_accuracy: 0.3944 - val_loss: 0.2645\n",
      "Epoch 9/15\n",
      "\u001b[1m1875/1875\u001b[0m \u001b[32m━━━━━━━━━━━━━━━━━━━━\u001b[0m\u001b[37m\u001b[0m \u001b[1m3s\u001b[0m 2ms/step - accuracy: 0.4073 - loss: 0.2579 - val_accuracy: 0.4101 - val_loss: 0.2615\n",
      "Epoch 10/15\n",
      "\u001b[1m1875/1875\u001b[0m \u001b[32m━━━━━━━━━━━━━━━━━━━━\u001b[0m\u001b[37m\u001b[0m \u001b[1m3s\u001b[0m 2ms/step - accuracy: 0.4001 - loss: 0.2670 - val_accuracy: 0.4145 - val_loss: 0.2623\n",
      "Epoch 11/15\n",
      "\u001b[1m1875/1875\u001b[0m \u001b[32m━━━━━━━━━━━━━━━━━━━━\u001b[0m\u001b[37m\u001b[0m \u001b[1m3s\u001b[0m 2ms/step - accuracy: 0.3982 - loss: 0.2615 - val_accuracy: 0.4121 - val_loss: 0.2601\n",
      "Epoch 12/15\n",
      "\u001b[1m1875/1875\u001b[0m \u001b[32m━━━━━━━━━━━━━━━━━━━━\u001b[0m\u001b[37m\u001b[0m \u001b[1m3s\u001b[0m 2ms/step - accuracy: 0.4028 - loss: 0.2599 - val_accuracy: 0.4099 - val_loss: 0.2584\n",
      "Epoch 13/15\n",
      "\u001b[1m1875/1875\u001b[0m \u001b[32m━━━━━━━━━━━━━━━━━━━━\u001b[0m\u001b[37m\u001b[0m \u001b[1m3s\u001b[0m 2ms/step - accuracy: 0.4069 - loss: 0.2613 - val_accuracy: 0.4111 - val_loss: 0.2592\n",
      "Epoch 14/15\n",
      "\u001b[1m1875/1875\u001b[0m \u001b[32m━━━━━━━━━━━━━━━━━━━━\u001b[0m\u001b[37m\u001b[0m \u001b[1m3s\u001b[0m 2ms/step - accuracy: 0.4070 - loss: 0.2581 - val_accuracy: 0.4151 - val_loss: 0.2588\n",
      "Epoch 15/15\n",
      "\u001b[1m1875/1875\u001b[0m \u001b[32m━━━━━━━━━━━━━━━━━━━━\u001b[0m\u001b[37m\u001b[0m \u001b[1m3s\u001b[0m 2ms/step - accuracy: 0.4084 - loss: 0.2573 - val_accuracy: 0.4045 - val_loss: 0.2587\n",
      "Iniciando el servidor...\n",
      "\u001b[1m1/1\u001b[0m \u001b[32m━━━━━━━━━━━━━━━━━━━━\u001b[0m\u001b[37m\u001b[0m \u001b[1m0s\u001b[0m 311ms/step\n",
      "Predicción: Non\n"
     ]
    },
    {
     "name": "stderr",
     "output_type": "stream",
     "text": [
      "127.0.0.1 - - [27/Mar/2025 20:12:03] \"POST / HTTP/1.1\" 200 -\n"
     ]
    },
    {
     "name": "stdout",
     "output_type": "stream",
     "text": [
      "\u001b[1m1/1\u001b[0m \u001b[32m━━━━━━━━━━━━━━━━━━━━\u001b[0m\u001b[37m\u001b[0m \u001b[1m0s\u001b[0m 41ms/step\n",
      "Predicción: Par\n"
     ]
    },
    {
     "name": "stderr",
     "output_type": "stream",
     "text": [
      "127.0.0.1 - - [27/Mar/2025 20:15:50] \"POST / HTTP/1.1\" 200 -\n"
     ]
    },
    {
     "name": "stdout",
     "output_type": "stream",
     "text": [
      "\u001b[1m1/1\u001b[0m \u001b[32m━━━━━━━━━━━━━━━━━━━━\u001b[0m\u001b[37m\u001b[0m \u001b[1m0s\u001b[0m 43ms/step\n",
      "Predicción: Non\n"
     ]
    },
    {
     "name": "stderr",
     "output_type": "stream",
     "text": [
      "127.0.0.1 - - [27/Mar/2025 20:16:40] \"POST / HTTP/1.1\" 200 -\n"
     ]
    },
    {
     "name": "stdout",
     "output_type": "stream",
     "text": [
      "\u001b[1m1/1\u001b[0m \u001b[32m━━━━━━━━━━━━━━━━━━━━\u001b[0m\u001b[37m\u001b[0m \u001b[1m0s\u001b[0m 41ms/step\n",
      "Predicción: Non\n"
     ]
    },
    {
     "name": "stderr",
     "output_type": "stream",
     "text": [
      "127.0.0.1 - - [27/Mar/2025 20:17:25] \"POST / HTTP/1.1\" 200 -\n"
     ]
    },
    {
     "name": "stdout",
     "output_type": "stream",
     "text": [
      "\u001b[1m1/1\u001b[0m \u001b[32m━━━━━━━━━━━━━━━━━━━━\u001b[0m\u001b[37m\u001b[0m \u001b[1m0s\u001b[0m 40ms/step\n",
      "Predicción: Par\n"
     ]
    },
    {
     "name": "stderr",
     "output_type": "stream",
     "text": [
      "127.0.0.1 - - [27/Mar/2025 20:17:42] \"POST / HTTP/1.1\" 200 -\n"
     ]
    },
    {
     "name": "stdout",
     "output_type": "stream",
     "text": [
      "\u001b[1m1/1\u001b[0m \u001b[32m━━━━━━━━━━━━━━━━━━━━\u001b[0m\u001b[37m\u001b[0m \u001b[1m0s\u001b[0m 40ms/step\n",
      "Predicción: Non\n"
     ]
    },
    {
     "name": "stderr",
     "output_type": "stream",
     "text": [
      "127.0.0.1 - - [27/Mar/2025 20:18:32] \"POST / HTTP/1.1\" 200 -\n"
     ]
    }
   ],
   "source": [
    "from __future__ import absolute_import, division, print_function, unicode_literals\n",
    "import tensorflow as tf\n",
    "import tensorflow_datasets as tfds\n",
    "import math\n",
    "import numpy as np\n",
    "import matplotlib.pyplot as plt\n",
    "import logging\n",
    "from urllib import parse\n",
    "from http.server import HTTPServer, BaseHTTPRequestHandler\n",
    "logger = tf.get_logger()\n",
    "\n",
    "logger.setLevel(logging.ERROR)\n",
    "\n",
    "# Cargar datos de MNIST\n",
    "dataset, metadata = tfds.load('mnist', as_supervised=True, with_info=True)\n",
    "train_dataset, test_dataset = dataset['train'], dataset['test']\n",
    "\n",
    "# Normalizar imágenes (0-255 -> 0-1)\n",
    "def normalize(images, labels):\n",
    "    images = tf.cast(images, tf.float32)\n",
    "    images /= 255\n",
    "    return images, labels\n",
    "\n",
    "train_dataset = train_dataset.map(normalize)\n",
    "test_dataset = test_dataset.map(normalize)\n",
    "\n",
    "# Convertir etiquetas a par (+1) o non (-1)\n",
    "def binary_labels(image, label):\n",
    "    return image, tf.where(label % 2 == 0, 1, -1)  # Par: +1, Non: -1\n",
    "\n",
    "train_dataset = train_dataset.map(binary_labels)\n",
    "test_dataset = test_dataset.map(binary_labels)\n",
    "\n",
    "# Definir el Perceptrón (1 capa Dense con activación 'sign' personalizada)\n",
    "model = tf.keras.Sequential([\n",
    "    tf.keras.layers.Flatten(input_shape=(28, 28, 1)),\n",
    "    tf.keras.layers.Dense(1, activation='linear')  # Salida lineal para el Perceptrón\n",
    "])\n",
    "\n",
    "# Función de activación tipo \"sign\" (no incluida en Keras, se aplica después)\n",
    "def sign_activation(z):\n",
    "    return tf.where(z >= 0, 1, -1)\n",
    "\n",
    "# Compilar el modelo con pérdida hinge (para Perceptrón)\n",
    "model.compile(\n",
    "    optimizer='sgd',  # Descenso de gradiente estándar\n",
    "    loss='hinge',     # Pérdida hinge (para clasificación binaria)\n",
    "    metrics=['accuracy']\n",
    ")\n",
    "\n",
    "# Entrenamiento (lotes de 32)\n",
    "BATCHSIZE = 32\n",
    "train_dataset = train_dataset.repeat().shuffle(metadata.splits['train'].num_examples).batch(BATCHSIZE)\n",
    "test_dataset = test_dataset.batch(BATCHSIZE)\n",
    "\n",
    "# Entrenamiento con historial\n",
    "model.fit(\n",
    "    train_dataset,\n",
    "    epochs=15,   #numero de epocas\n",
    "    steps_per_epoch=math.ceil(metadata.splits['train'].num_examples / BATCHSIZE),\n",
    "    validation_data=test_dataset,\n",
    "    validation_steps=math.ceil(metadata.splits['test'].num_examples / BATCHSIZE)\n",
    ")\n",
    "\n",
    "\n",
    "# Servidor HTTP para predicciones\n",
    "class SimpleHTTPRequestHandler(BaseHTTPRequestHandler):\n",
    "    def do_POST(self):\n",
    "        content_length = int(self.headers['Content-Length'])\n",
    "        content_length = int(self.headers['Content-Length'])\n",
    "        data = self.rfile.read(content_length)\n",
    "        data = data.decode().replace('pixeles=', '')\n",
    "        data = parse.unquote(data)\n",
    "        \n",
    "         #Realizar transformacion para dejar igual que los ejemplos que usa MNIST\n",
    "        arr = np.fromstring(data, np.float32, sep=\",\")\n",
    "        arr = arr.reshape(28,28)\n",
    "        arr = np.array(arr)\n",
    "        arr = arr.reshape(1,28,28,1)\n",
    "   \n",
    "        \n",
    "        # Predecir con el Perceptrón (salida lineal)\n",
    "        prediction = model.predict(arr, batch_size=1)\n",
    "        # Aplicar activación \"sign\" manualmente\n",
    "        predicted_class = 1 if prediction[0][0] >= 0 else -1\n",
    "        \n",
    "        print(f\"Predicción: {'Par' if predicted_class == 1 else 'Non'}\")\n",
    "\n",
    "        self.send_response(200)\n",
    "        self.send_header(\"Access-Control-Allow-Origin\", \"*\")\n",
    "        self.end_headers()\n",
    "        self.wfile.write(str(predicted_class).encode())\n",
    "\n",
    "# Iniciar servidor\n",
    "print(\"Iniciando el servidor...\")\n",
    "server = HTTPServer(('localhost', 8000), SimpleHTTPRequestHandler)\n",
    "server.serve_forever()"
   ]
  },
  {
   "cell_type": "code",
   "execution_count": null,
   "id": "beb1d6b3-ca50-4e9c-8eef-217bca0ad37f",
   "metadata": {},
   "outputs": [],
   "source": []
  }
 ],
 "metadata": {
  "kernelspec": {
   "display_name": "Python 3 (ipykernel)",
   "language": "python",
   "name": "python3"
  },
  "language_info": {
   "codemirror_mode": {
    "name": "ipython",
    "version": 3
   },
   "file_extension": ".py",
   "mimetype": "text/x-python",
   "name": "python",
   "nbconvert_exporter": "python",
   "pygments_lexer": "ipython3",
   "version": "3.12.5"
  }
 },
 "nbformat": 4,
 "nbformat_minor": 5
}
