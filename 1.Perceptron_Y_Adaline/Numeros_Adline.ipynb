{
 "cells": [
  {
   "cell_type": "code",
   "execution_count": null,
   "id": "ddf4da71-ead6-4b27-997f-669348e3020c",
   "metadata": {},
   "outputs": [
    {
     "name": "stdout",
     "output_type": "stream",
     "text": [
      "Epoch 1/15\n"
     ]
    },
    {
     "name": "stderr",
     "output_type": "stream",
     "text": [
      "C:\\Users\\YaTuSabes\\miniconda3\\Lib\\site-packages\\keras\\src\\layers\\reshaping\\flatten.py:37: UserWarning: Do not pass an `input_shape`/`input_dim` argument to a layer. When using Sequential models, prefer using an `Input(shape)` object as the first layer in the model instead.\n",
      "  super().__init__(**kwargs)\n"
     ]
    },
    {
     "name": "stdout",
     "output_type": "stream",
     "text": [
      "\u001b[1m1875/1875\u001b[0m \u001b[32m━━━━━━━━━━━━━━━━━━━━\u001b[0m\u001b[37m\u001b[0m \u001b[1m7s\u001b[0m 2ms/step - accuracy: 0.2617 - loss: 0.4808 - val_accuracy: 0.3076 - val_loss: 0.4028\n",
      "Epoch 2/15\n",
      "\u001b[1m1875/1875\u001b[0m \u001b[32m━━━━━━━━━━━━━━━━━━━━\u001b[0m\u001b[37m\u001b[0m \u001b[1m3s\u001b[0m 2ms/step - accuracy: 0.2870 - loss: 0.4115 - val_accuracy: 0.3231 - val_loss: 0.4087\n",
      "Epoch 3/15\n",
      "\u001b[1m1875/1875\u001b[0m \u001b[32m━━━━━━━━━━━━━━━━━━━━\u001b[0m\u001b[37m\u001b[0m \u001b[1m3s\u001b[0m 2ms/step - accuracy: 0.2881 - loss: 0.4052 - val_accuracy: 0.3003 - val_loss: 0.3993\n",
      "Epoch 4/15\n",
      "\u001b[1m1875/1875\u001b[0m \u001b[32m━━━━━━━━━━━━━━━━━━━━\u001b[0m\u001b[37m\u001b[0m \u001b[1m3s\u001b[0m 2ms/step - accuracy: 0.2939 - loss: 0.4004 - val_accuracy: 0.2656 - val_loss: 0.4016\n",
      "Epoch 5/15\n",
      "\u001b[1m1875/1875\u001b[0m \u001b[32m━━━━━━━━━━━━━━━━━━━━\u001b[0m\u001b[37m\u001b[0m \u001b[1m3s\u001b[0m 2ms/step - accuracy: 0.2859 - loss: 0.4028 - val_accuracy: 0.3103 - val_loss: 0.3961\n",
      "Epoch 6/15\n",
      "\u001b[1m1875/1875\u001b[0m \u001b[32m━━━━━━━━━━━━━━━━━━━━\u001b[0m\u001b[37m\u001b[0m \u001b[1m3s\u001b[0m 2ms/step - accuracy: 0.2921 - loss: 0.4014 - val_accuracy: 0.3088 - val_loss: 0.3991\n",
      "Epoch 7/15\n",
      "\u001b[1m1875/1875\u001b[0m \u001b[32m━━━━━━━━━━━━━━━━━━━━\u001b[0m\u001b[37m\u001b[0m \u001b[1m3s\u001b[0m 2ms/step - accuracy: 0.2915 - loss: 0.3962 - val_accuracy: 0.2463 - val_loss: 0.4012\n",
      "Epoch 8/15\n",
      "\u001b[1m1875/1875\u001b[0m \u001b[32m━━━━━━━━━━━━━━━━━━━━\u001b[0m\u001b[37m\u001b[0m \u001b[1m3s\u001b[0m 2ms/step - accuracy: 0.2980 - loss: 0.3993 - val_accuracy: 0.3439 - val_loss: 0.4154\n",
      "Epoch 9/15\n",
      "\u001b[1m1875/1875\u001b[0m \u001b[32m━━━━━━━━━━━━━━━━━━━━\u001b[0m\u001b[37m\u001b[0m \u001b[1m3s\u001b[0m 2ms/step - accuracy: 0.2892 - loss: 0.3956 - val_accuracy: 0.2867 - val_loss: 0.3955\n",
      "Epoch 10/15\n",
      "\u001b[1m1875/1875\u001b[0m \u001b[32m━━━━━━━━━━━━━━━━━━━━\u001b[0m\u001b[37m\u001b[0m \u001b[1m3s\u001b[0m 2ms/step - accuracy: 0.2916 - loss: 0.4007 - val_accuracy: 0.2598 - val_loss: 0.3994\n",
      "Epoch 11/15\n",
      "\u001b[1m1875/1875\u001b[0m \u001b[32m━━━━━━━━━━━━━━━━━━━━\u001b[0m\u001b[37m\u001b[0m \u001b[1m3s\u001b[0m 2ms/step - accuracy: 0.2885 - loss: 0.3983 - val_accuracy: 0.3026 - val_loss: 0.3911\n",
      "Epoch 12/15\n",
      "\u001b[1m1875/1875\u001b[0m \u001b[32m━━━━━━━━━━━━━━━━━━━━\u001b[0m\u001b[37m\u001b[0m \u001b[1m3s\u001b[0m 2ms/step - accuracy: 0.2911 - loss: 0.3989 - val_accuracy: 0.2961 - val_loss: 0.3917\n",
      "Epoch 13/15\n",
      "\u001b[1m1875/1875\u001b[0m \u001b[32m━━━━━━━━━━━━━━━━━━━━\u001b[0m\u001b[37m\u001b[0m \u001b[1m3s\u001b[0m 2ms/step - accuracy: 0.2900 - loss: 0.3982 - val_accuracy: 0.2777 - val_loss: 0.3966\n",
      "Epoch 14/15\n",
      "\u001b[1m1875/1875\u001b[0m \u001b[32m━━━━━━━━━━━━━━━━━━━━\u001b[0m\u001b[37m\u001b[0m \u001b[1m3s\u001b[0m 2ms/step - accuracy: 0.2940 - loss: 0.3971 - val_accuracy: 0.3375 - val_loss: 0.4147\n",
      "Epoch 15/15\n",
      "\u001b[1m1875/1875\u001b[0m \u001b[32m━━━━━━━━━━━━━━━━━━━━\u001b[0m\u001b[37m\u001b[0m \u001b[1m3s\u001b[0m 2ms/step - accuracy: 0.2968 - loss: 0.3965 - val_accuracy: 0.3277 - val_loss: 0.3995\n",
      "Iniciando el servidor...\n",
      "\u001b[1m1/1\u001b[0m \u001b[32m━━━━━━━━━━━━━━━━━━━━\u001b[0m\u001b[37m\u001b[0m \u001b[1m0s\u001b[0m 71ms/step\n",
      "Predicción: Par\n"
     ]
    },
    {
     "name": "stderr",
     "output_type": "stream",
     "text": [
      "127.0.0.1 - - [27/Mar/2025 20:53:25] \"POST / HTTP/1.1\" 200 -\n"
     ]
    },
    {
     "name": "stdout",
     "output_type": "stream",
     "text": [
      "\u001b[1m1/1\u001b[0m \u001b[32m━━━━━━━━━━━━━━━━━━━━\u001b[0m\u001b[37m\u001b[0m \u001b[1m0s\u001b[0m 45ms/step\n",
      "Predicción: Par\n"
     ]
    },
    {
     "name": "stderr",
     "output_type": "stream",
     "text": [
      "127.0.0.1 - - [27/Mar/2025 20:54:11] \"POST / HTTP/1.1\" 200 -\n"
     ]
    },
    {
     "name": "stdout",
     "output_type": "stream",
     "text": [
      "\u001b[1m1/1\u001b[0m \u001b[32m━━━━━━━━━━━━━━━━━━━━\u001b[0m\u001b[37m\u001b[0m \u001b[1m0s\u001b[0m 39ms/step\n",
      "Predicción: Par\n"
     ]
    },
    {
     "name": "stderr",
     "output_type": "stream",
     "text": [
      "127.0.0.1 - - [27/Mar/2025 20:55:02] \"POST / HTTP/1.1\" 200 -\n"
     ]
    },
    {
     "name": "stdout",
     "output_type": "stream",
     "text": [
      "\u001b[1m1/1\u001b[0m \u001b[32m━━━━━━━━━━━━━━━━━━━━\u001b[0m\u001b[37m\u001b[0m \u001b[1m0s\u001b[0m 42ms/step\n",
      "Predicción: Non\n"
     ]
    },
    {
     "name": "stderr",
     "output_type": "stream",
     "text": [
      "127.0.0.1 - - [27/Mar/2025 20:55:41] \"POST / HTTP/1.1\" 200 -\n"
     ]
    },
    {
     "name": "stdout",
     "output_type": "stream",
     "text": [
      "\u001b[1m1/1\u001b[0m \u001b[32m━━━━━━━━━━━━━━━━━━━━\u001b[0m\u001b[37m\u001b[0m \u001b[1m0s\u001b[0m 74ms/step\n",
      "Predicción: Non\n"
     ]
    },
    {
     "name": "stderr",
     "output_type": "stream",
     "text": [
      "127.0.0.1 - - [27/Mar/2025 20:57:46] \"POST / HTTP/1.1\" 200 -\n"
     ]
    },
    {
     "name": "stdout",
     "output_type": "stream",
     "text": [
      "\u001b[1m1/1\u001b[0m \u001b[32m━━━━━━━━━━━━━━━━━━━━\u001b[0m\u001b[37m\u001b[0m \u001b[1m0s\u001b[0m 40ms/step\n",
      "Predicción: Non\n"
     ]
    },
    {
     "name": "stderr",
     "output_type": "stream",
     "text": [
      "127.0.0.1 - - [27/Mar/2025 20:57:53] \"POST / HTTP/1.1\" 200 -\n"
     ]
    },
    {
     "name": "stdout",
     "output_type": "stream",
     "text": [
      "\u001b[1m1/1\u001b[0m \u001b[32m━━━━━━━━━━━━━━━━━━━━\u001b[0m\u001b[37m\u001b[0m \u001b[1m0s\u001b[0m 41ms/step\n",
      "Predicción: Non\n"
     ]
    },
    {
     "name": "stderr",
     "output_type": "stream",
     "text": [
      "127.0.0.1 - - [27/Mar/2025 20:58:00] \"POST / HTTP/1.1\" 200 -\n"
     ]
    },
    {
     "name": "stdout",
     "output_type": "stream",
     "text": [
      "\u001b[1m1/1\u001b[0m \u001b[32m━━━━━━━━━━━━━━━━━━━━\u001b[0m\u001b[37m\u001b[0m \u001b[1m0s\u001b[0m 41ms/step\n",
      "Predicción: Par\n"
     ]
    },
    {
     "name": "stderr",
     "output_type": "stream",
     "text": [
      "127.0.0.1 - - [27/Mar/2025 20:58:05] \"POST / HTTP/1.1\" 200 -\n"
     ]
    },
    {
     "name": "stdout",
     "output_type": "stream",
     "text": [
      "\u001b[1m1/1\u001b[0m \u001b[32m━━━━━━━━━━━━━━━━━━━━\u001b[0m\u001b[37m\u001b[0m \u001b[1m0s\u001b[0m 39ms/step\n",
      "Predicción: Par\n"
     ]
    },
    {
     "name": "stderr",
     "output_type": "stream",
     "text": [
      "127.0.0.1 - - [27/Mar/2025 20:58:38] \"POST / HTTP/1.1\" 200 -\n"
     ]
    }
   ],
   "source": [
    "from __future__ import absolute_import, division, print_function, unicode_literals\n",
    "import tensorflow as tf\n",
    "import tensorflow_datasets as tfds\n",
    "import math\n",
    "import numpy as np\n",
    "import matplotlib.pyplot as plt\n",
    "import logging\n",
    "from urllib import parse\n",
    "from http.server import HTTPServer, BaseHTTPRequestHandler\n",
    "logger = tf.get_logger()\n",
    "\n",
    "logger.setLevel(logging.ERROR)\n",
    "\n",
    "# Cargar datos de MNIST\n",
    "dataset, metadata = tfds.load('mnist', as_supervised=True, with_info=True)\n",
    "train_dataset, test_dataset = dataset['train'], dataset['test']\n",
    "\n",
    "# Normalizar imágenes (0-255 -> 0-1)\n",
    "def normalize(images, labels):\n",
    "    images = tf.cast(images, tf.float32)\n",
    "    images /= 255\n",
    "    return images, labels\n",
    "\n",
    "train_dataset = train_dataset.map(normalize)\n",
    "test_dataset = test_dataset.map(normalize)\n",
    "\n",
    "# Convertir etiquetas a par (+1) o non (-1)\n",
    "def binary_labels(image, label):\n",
    "    return image, tf.where(label % 2 == 0, 1, -1)  # Par: +1, Non: -1\n",
    "\n",
    "train_dataset = train_dataset.map(binary_labels)\n",
    "test_dataset = test_dataset.map(binary_labels)\n",
    "\n",
    "# Definir  (1 capa Dense con activación 'sign' personalizada)\n",
    "model = tf.keras.Sequential([\n",
    "    tf.keras.layers.Flatten(input_shape=(28, 28, 1)),\n",
    "    tf.keras.layers.Dense(1, activation='linear')  # Salida lineal para el Perceptrón\n",
    "])\n",
    "\n",
    "# Función de activación tipo \"sign\" (no incluida en Keras, se aplica después)\n",
    "def sign_activation(z):\n",
    "    return tf.where(z >= 0, 1, -1)\n",
    "\n",
    "# Compilar el modelo con pérdida MSE (para Adaline)\n",
    "model.compile(\n",
    "    optimizer='sgd',  # Descenso de gradiente estándar\n",
    "    loss='mean_squared_error',  # MSE para Adaline\n",
    "    metrics=['accuracy']\n",
    ")\n",
    "\n",
    "# Entrenamiento (lotes de 32)\n",
    "BATCHSIZE = 32\n",
    "train_dataset = train_dataset.repeat().shuffle(metadata.splits['train'].num_examples).batch(BATCHSIZE)\n",
    "test_dataset = test_dataset.batch(BATCHSIZE)\n",
    "\n",
    "# Entrenamiento con historial\n",
    "model.fit(\n",
    "    train_dataset,\n",
    "    epochs=15,   #numero de epocas\n",
    "    steps_per_epoch=math.ceil(metadata.splits['train'].num_examples / BATCHSIZE),\n",
    "    validation_data=test_dataset,\n",
    "    validation_steps=math.ceil(metadata.splits['test'].num_examples / BATCHSIZE)\n",
    ")\n",
    "\n",
    "\n",
    "# Servidor HTTP para predicciones\n",
    "class SimpleHTTPRequestHandler(BaseHTTPRequestHandler):\n",
    "    def do_POST(self):\n",
    "        content_length = int(self.headers['Content-Length'])\n",
    "        content_length = int(self.headers['Content-Length'])\n",
    "        data = self.rfile.read(content_length)\n",
    "        data = data.decode().replace('pixeles=', '')\n",
    "        data = parse.unquote(data)\n",
    "        \n",
    "         #Realizar transformacion para dejar igual que los ejemplos que usa MNIST\n",
    "        arr = np.fromstring(data, np.float32, sep=\",\")\n",
    "        arr = arr.reshape(28,28)\n",
    "        arr = np.array(arr)\n",
    "        arr = arr.reshape(1,28,28,1)\n",
    "   \n",
    "        \n",
    "        # Predecir con Adaline (salida lineal continua)\n",
    "        prediction = model.predict(arr, batch_size=1)\n",
    "        # Aplicar activación \"sign\" solo para la clasificación final\n",
    "        predicted_class = 1 if prediction[0][0] >= 0 else -1\n",
    "        \n",
    "        print(f\"Predicción: {'Par' if predicted_class == 1 else 'Non'}\")\n",
    "\n",
    "        self.send_response(200)\n",
    "        self.send_header(\"Access-Control-Allow-Origin\", \"*\")\n",
    "        self.end_headers()\n",
    "        self.wfile.write(str(predicted_class).encode())\n",
    "\n",
    "# Iniciar servidor\n",
    "print(\"Iniciando el servidor...\")\n",
    "server = HTTPServer(('localhost', 8000), SimpleHTTPRequestHandler)\n",
    "server.serve_forever()"
   ]
  },
  {
   "cell_type": "code",
   "execution_count": null,
   "id": "b56bb525-f06d-4629-984e-2335b689bbe5",
   "metadata": {},
   "outputs": [],
   "source": []
  }
 ],
 "metadata": {
  "kernelspec": {
   "display_name": "Python 3 (ipykernel)",
   "language": "python",
   "name": "python3"
  },
  "language_info": {
   "codemirror_mode": {
    "name": "ipython",
    "version": 3
   },
   "file_extension": ".py",
   "mimetype": "text/x-python",
   "name": "python",
   "nbconvert_exporter": "python",
   "pygments_lexer": "ipython3",
   "version": "3.12.5"
  }
 },
 "nbformat": 4,
 "nbformat_minor": 5
}
